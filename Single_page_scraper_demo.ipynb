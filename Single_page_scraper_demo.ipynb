{
 "metadata": {
  "kernelspec": {
   "display_name": "Python 2",
   "language": "python",
   "name": "python2"
  },
  "language_info": {
   "codemirror_mode": {
    "name": "ipython",
    "version": 2
   },
   "file_extension": ".py",
   "mimetype": "text/x-python",
   "name": "python",
   "nbconvert_exporter": "python",
   "pygments_lexer": "ipython2",
   "version": "2.7.11"
  },
  "name": "",
  "signature": "sha256:13a3cefcced13df99a462eb5c670b3e29f872996ba485d0773ffb21bb4455d16"
 },
 "nbformat": 3,
 "nbformat_minor": 0,
 "worksheets": [
  {
   "cells": [
    {
     "cell_type": "code",
     "collapsed": true,
     "input": [
      "from scrapy import Selector\n",
      "from selenium import webdriver\n",
      "import requests\n",
      "import urlparse\n",
      "import os\n",
      "import re\n",
      "import datetime"
     ],
     "language": "python",
     "metadata": {},
     "outputs": [],
     "prompt_number": 17
    },
    {
     "cell_type": "code",
     "collapsed": false,
     "input": [
      "# Global variables\n",
      "XPATH_COMPANY_LIST = '//div[@class=\"info-block\"]/h4/a/@href'\n",
      "XPATH_COMPANY_FUNDING_DATE = '//h2[@class=\"title_date\"]'\n",
      "XPATH_COMPANY_FUNDING_ROUND = '//table[@class=\"table container\"]//a/text()'\n",
      "XPATH_COMPANY_FUNDING_AMOUNT = '//table[@class=\"table container\"]//td[2]/text()'\n",
      "XPATH_COMPANY_CRUNCHBASE_LINK = '//div[@class=\"info-block\"]//a/@href'\n",
      "XPATH_COMPANY_SITE_LINK = '//div[@class=\"definition-list container\"]//dd[5]/a/@href'\n",
      "XPATH_COMPANY_LINKEDIN_LINK = '//dd[@class=\"social-links\"]//a[@class=\"icons linkedin\"]/@href'\n",
      "XPATH_COMPANY_NAME = '//h1[@id=\"profile_header_heading\"]//a/text()'\n",
      "XPATH_COMPANY_DESCRIPTION = '//div[@class=\"definition-list container\"]//dd[2]/text()'\n",
      "\n",
      "XPATH_TEAM_MEMBER_LIST = '//div[@class=\"base info-tab people\"]//ul[@class=\"section-list container\"]/li'\n",
      "XPATH_TEAM_MEMBER_FULL_NAME = '//div[@class=\"info-block\"]/div[@class=\"large\"]//a[@class=\"follow_card\"]/text()'\n",
      "XPATH_TEAM_MEMBER_POSITION = '//div[@class=\"info-block\"]/div[@class=\"large\"]/h5/text()'\n",
      "XPATH_TEAM_MEMBER_CRUNCHBASE_LINK = '//h4/a[@data-type=\"person\"][@class=\"follow_card\"]/@href'\n",
      "XPATH_TEAM_MEMBER_LINKEDIN_LINK = '//dd[@class=\"social-links\"]/a/@href'\n",
      "XPATH_TEAM_MEMBER_PERSONAL_DETAILS = '//div[@class=\"base info-tab description\"]//div[@class=\"card-content box container card-slim\"]//text()'\n",
      "\n",
      "base_url = 'https://www.crunchbase.com/'\n",
      "url = 'https://www.crunchbase.com/funding-rounds'\n",
      "\n",
      "headers = {'User-Agent': 'Mozilla/5.0 (Macintosh; Intel Mac OS X 10_10_4) AppleWebKit/600.7.12 (KHTML, like Gecko) Version/8.0.7 Safari/600.7.12'}"
     ],
     "language": "python",
     "metadata": {},
     "outputs": [],
     "prompt_number": 40
    },
    {
     "cell_type": "code",
     "collapsed": false,
     "input": [
      "# Create rendering engine\n",
      "browser = webdriver.Chrome()"
     ],
     "language": "python",
     "metadata": {},
     "outputs": [],
     "prompt_number": 10
    },
    {
     "cell_type": "code",
     "collapsed": false,
     "input": [
      "# Get company list raw html content\n",
      "response = requests.get(url, headers=headers)"
     ],
     "language": "python",
     "metadata": {},
     "outputs": []
    },
    {
     "cell_type": "code",
     "collapsed": true,
     "input": [
      "# Save company list raw html content on disk \n",
      "# for developing and testing purposes\n",
      "with open('company_list_raw_content.html', 'wb') as fout:\n",
      "    fout.write(response.content)"
     ],
     "language": "python",
     "metadata": {},
     "outputs": []
    },
    {
     "cell_type": "code",
     "collapsed": false,
     "input": [
      "# Get company list rendered html content\n",
      "browser.get('file:///{}/company_list_raw_content.html'.format(os.getcwd()))\n",
      "company_list_rendered_content = browser.page_source"
     ],
     "language": "python",
     "metadata": {},
     "outputs": [],
     "prompt_number": 11
    },
    {
     "cell_type": "code",
     "collapsed": false,
     "input": [
      "# Save company list rendered html content on disk\n",
      "# for developing and testing purposes\n",
      "with open('company_list_rendered_content.html', 'wb') as fout:\n",
      "    fout.write(company_list_rendered_content.encode('utf-8'))"
     ],
     "language": "python",
     "metadata": {},
     "outputs": [],
     "prompt_number": 13
    },
    {
     "cell_type": "code",
     "collapsed": false,
     "input": [
      "# Get founding_blocks with company list selector\n",
      "funding_blocks_sel = Selector(text=company_list_rendered_content)"
     ],
     "language": "python",
     "metadata": {},
     "outputs": [],
     "prompt_number": 14
    },
    {
     "cell_type": "code",
     "collapsed": false,
     "input": [
      "# Extract funding blocks with company lists\n",
      "funding_blocks = funding_blocks_sel.xpath(XPATH_COMPANY_FUNDING_DATE)"
     ],
     "language": "python",
     "metadata": {},
     "outputs": [],
     "prompt_number": 15
    },
    {
     "cell_type": "code",
     "collapsed": false,
     "input": [
      "# Extract funding date from first funding block\n",
      "funding_block = funding_blocks[0]\n",
      "funding_date = datetime.datetime.strptime(funding_block.xpath('text()').extract_first(), '%B %d, %Y').date()\n",
      "print('funding date: {}'.format(funding_date))"
     ],
     "language": "python",
     "metadata": {},
     "outputs": [
      {
       "output_type": "stream",
       "stream": "stdout",
       "text": [
        "funding date: 2016-08-04\n"
       ]
      }
     ],
     "prompt_number": 18
    },
    {
     "cell_type": "code",
     "collapsed": false,
     "input": [
      "# Extract company list from first funding block with given funding date\n",
      "company_list = [urlparse.urljoin(base_url, item) for item in funding_block.xpath(XPATH_COMPANY_LIST).extract() if re.search('/organization/\\S+', item)]\n",
      "print('company_list:')\n",
      "for company_url in company_list:\n",
      "    print('\\t{}'.format(company_url))"
     ],
     "language": "python",
     "metadata": {},
     "outputs": [
      {
       "output_type": "stream",
       "stream": "stdout",
       "text": [
        "company_list:\n",
        "\thttps://www.crunchbase.com/organization/go-jek\n",
        "\thttps://www.crunchbase.com/organization/formlabs\n",
        "\thttps://www.crunchbase.com/organization/virool\n",
        "\thttps://www.crunchbase.com/organization/insert\n",
        "\thttps://www.crunchbase.com/organization/brandyourself\n",
        "\thttps://www.crunchbase.com/organization/cloudhelix-inc\n",
        "\thttps://www.crunchbase.com/organization/elationemr\n",
        "\thttps://www.crunchbase.com/organization/dnatrix\n",
        "\thttps://www.crunchbase.com/organization/jiffy-2\n",
        "\thttps://www.crunchbase.com/organization/shatterproof\n",
        "\thttps://www.crunchbase.com/organization/eleos-web\n",
        "\thttps://www.crunchbase.com/organization/syft-app\n",
        "\thttps://www.crunchbase.com/organization/homebase\n",
        "\thttps://www.crunchbase.com/organization/curbza\n",
        "\thttps://www.crunchbase.com/organization/the-idle-man\n",
        "\thttps://www.crunchbase.com/organization/drizly\n",
        "\thttps://www.crunchbase.com/organization/repaireasy\n",
        "\thttps://www.crunchbase.com/organization/huize-com\n",
        "\thttps://www.crunchbase.com/organization/neusoft\n",
        "\thttps://www.crunchbase.com/organization/paulcamper\n",
        "\thttps://www.crunchbase.com/organization/stellar-value-chain\n",
        "\thttps://www.crunchbase.com/organization/mycujoo\n",
        "\thttps://www.crunchbase.com/organization/legalvision\n",
        "\thttps://www.crunchbase.com/organization/funding-societies\n",
        "\thttps://www.crunchbase.com/organization/yieldbot\n",
        "\thttps://www.crunchbase.com/organization/hig-capital\n",
        "\thttps://www.crunchbase.com/organization/raksul\n",
        "\thttps://www.crunchbase.com/organization/coinify-com\n",
        "\thttps://www.crunchbase.com/organization/ozaremit\n",
        "\thttps://www.crunchbase.com/organization/transferwise\n",
        "\thttps://www.crunchbase.com/organization/sequence-bio\n",
        "\thttps://www.crunchbase.com/organization/vaultrms\n",
        "\thttps://www.crunchbase.com/organization/cornerways-consulting\n",
        "\thttps://www.crunchbase.com/organization/going-to-school\n",
        "\thttps://www.crunchbase.com/organization/sitezeus\n",
        "\thttps://www.crunchbase.com/organization/ornim-medical\n",
        "\thttps://www.crunchbase.com/organization/spotim\n",
        "\thttps://www.crunchbase.com/organization/owlchemy-labs\n",
        "\thttps://www.crunchbase.com/organization/vipkid\n",
        "\thttps://www.crunchbase.com/organization/airhelp\n",
        "\thttps://www.crunchbase.com/organization/hulu\n",
        "\thttps://www.crunchbase.com/organization/lighthouse-ediscovery\n",
        "\thttps://www.crunchbase.com/organization/duck-house\n",
        "\thttps://www.crunchbase.com/organization/axialmarket\n",
        "\thttps://www.crunchbase.com/organization/rocketspace\n",
        "\thttps://www.crunchbase.com/organization/extracarbon\n",
        "\thttps://www.crunchbase.com/organization/sedona-systems\n",
        "\thttps://www.crunchbase.com/organization/velostrata\n",
        "\thttps://www.crunchbase.com/organization/panoply-io\n",
        "\thttps://www.crunchbase.com/organization/petoo\n"
       ]
      }
     ],
     "prompt_number": 21
    },
    {
     "cell_type": "code",
     "collapsed": false,
     "input": [
      "# Get company info raw html content\n",
      "company_url = company_list[0]\n",
      "company_info_raw_content = requests.get(company_url, headers=headers)"
     ],
     "language": "python",
     "metadata": {},
     "outputs": []
    },
    {
     "cell_type": "code",
     "collapsed": false,
     "input": [
      "# Save company info raw html content on disk\n",
      "# for developing and testing purposes\n",
      "with open('company_info_raw_content.html', 'wb') as fout:\n",
      "    fout.write(company_info_raw_content.content)"
     ],
     "language": "python",
     "metadata": {},
     "outputs": []
    },
    {
     "cell_type": "code",
     "collapsed": false,
     "input": [
      "# Get company info rendered html content\n",
      "browser.get('file:///{}/company_info_raw_content.html'.format(os.getcwd()))\n",
      "company_info_rendered_content = browser.page_source"
     ],
     "language": "python",
     "metadata": {},
     "outputs": [],
     "prompt_number": 22
    },
    {
     "cell_type": "code",
     "collapsed": false,
     "input": [
      "# Save company info rendered html content on disk\n",
      "# for developing and testing purposes\n",
      "with open('company_info_rendered_content.html', 'wb') as fout:\n",
      "    fout.write(company_info_rendered_content.encode('utf-8'))"
     ],
     "language": "python",
     "metadata": {},
     "outputs": [],
     "prompt_number": 24
    },
    {
     "cell_type": "code",
     "collapsed": false,
     "input": [
      "# Create company info selector\n",
      "company_info_sel = Selector(text=company_info_rendered_content)"
     ],
     "language": "python",
     "metadata": {},
     "outputs": [],
     "prompt_number": 25
    },
    {
     "cell_type": "code",
     "collapsed": false,
     "input": [
      "# Extract company info\n",
      "company_crunchbase_link = company_url\n",
      "name = company_info_sel.xpath(XPATH_COMPANY_NAME).extract_first(),\n",
      "description = company_info_sel.xpath(XPATH_COMPANY_DESCRIPTION).extract_first(),\n",
      "site_link = company_info_sel.xpath(XPATH_COMPANY_SITE_LINK).extract_first(),\n",
      "linkedin_link = company_info_sel.xpath(XPATH_COMPANY_LINKEDIN_LINK).extract_first()\n",
      "\n",
      "# Company funding info\n",
      "funding_round = company_info_sel.xpath(XPATH_COMPANY_FUNDING_ROUND).extract_first(),\n",
      "funding_amount = company_info_sel.xpath(XPATH_COMPANY_FUNDING_AMOUNT).extract_first()\n",
      "\n",
      "print('Company info')\n",
      "print('\\tname: {}'.format(name))\n",
      "print('\\tdescription: {}'.format(description))\n",
      "print('\\tcompany_crunchbase_link: {}'.format(company_crunchbase_link))\n",
      "print('\\tsite_link: {}'.format(site_link))\n",
      "print('\\tlinkedin_link: {}'.format(linkedin_link))\n",
      "print('\\tfunding_date: {}'.format(funding_date))\n",
      "print('\\tfunding_round: {}'.format(funding_round))\n",
      "print('\\tfunding_amount: {}'.format(funding_amount))"
     ],
     "language": "python",
     "metadata": {},
     "outputs": [
      {
       "output_type": "stream",
       "stream": "stdout",
       "text": [
        "Company info\n",
        "\tname: (u'Go-Jek',)\n",
        "\tdescription: (u'The fastest courier, transport, and shopping service in Jakarta.',)\n",
        "\tcompany_crunchbase_link: https://www.crunchbase.com/organization/petoo\n",
        "\tsite_link: (u'http://go-jek.com',)\n",
        "\tlinkedin_link: https://www.linkedin.com/company/pt--go-jek-indonesia\n",
        "\tfunding_date: 2016-08-04\n",
        "\tfunding_round: (u'Venture',)\n",
        "\tfunding_amount: $550M / \n"
       ]
      }
     ],
     "prompt_number": 26
    },
    {
     "cell_type": "code",
     "collapsed": false,
     "input": [
      "# Get list of team members selectors\n",
      "team_members_sel = company_info_sel.xpath(XPATH_TEAM_MEMBER_LIST)"
     ],
     "language": "python",
     "metadata": {},
     "outputs": [],
     "prompt_number": 27
    },
    {
     "cell_type": "code",
     "collapsed": false,
     "input": [
      "# Get first team member info\n",
      "team_member_block = team_members_sel[0]\n",
      "team_member_crunchbase_link = urlparse.urljoin(base_url, team_member_block.xpath(XPATH_TEAM_MEMBER_CRUNCHBASE_LINK).extract_first())\n",
      "team_member_full_name = team_member_block.xpath(XPATH_TEAM_MEMBER_FULL_NAME).extract_first()\n",
      "team_member_position = team_member_block.xpath(XPATH_TEAM_MEMBER_POSITION).extract_first()\n",
      "print('Team member info')\n",
      "print('\\tfull name: {}'.format(team_member_full_name))\n",
      "print('\\tposition: {}'.format(team_member_position))\n",
      "print('\\tcrunchbase_link: {}'.format(team_member_crunchbase_link))"
     ],
     "language": "python",
     "metadata": {},
     "outputs": [
      {
       "output_type": "stream",
       "stream": "stdout",
       "text": [
        "Team member info\n",
        "\tfull name: Kevin Aluwi\n",
        "\tposition: CFO\n",
        "\tcrunchbase_link: https://www.crunchbase.com/person/kevin-aluwi\n"
       ]
      }
     ],
     "prompt_number": 41
    },
    {
     "cell_type": "code",
     "collapsed": false,
     "input": [
      "# Get team member info raw html content\n",
      "team_member_info_raw_content = requests.get(team_member_crunchbase_link, headers=headers)"
     ],
     "language": "python",
     "metadata": {},
     "outputs": []
    },
    {
     "cell_type": "code",
     "collapsed": false,
     "input": [
      "# Save team member info raw html content on disk\n",
      "# for developing and testing purposes\n",
      "with open('team_member_info_raw_content.html', 'wb') as fout:\n",
      "    fout.write(team_member_info_raw_content.content)"
     ],
     "language": "python",
     "metadata": {},
     "outputs": []
    },
    {
     "cell_type": "code",
     "collapsed": false,
     "input": [
      "# Get team member info rendered html content\n",
      "browser.get('file:///{}/team_member_info_raw_content.html'.format(os.getcwd()))\n",
      "team_member_info_rendered_content = browser.page_source"
     ],
     "language": "python",
     "metadata": {},
     "outputs": [],
     "prompt_number": 42
    },
    {
     "cell_type": "code",
     "collapsed": false,
     "input": [
      "# Save team member info rendered html content on disk\n",
      "# for developing and testing purposes\n",
      "with open('team_member_info_rendered_content.html', 'wb') as fout:\n",
      "    fout.write(company_info_rendered_content.encode('utf-8'))"
     ],
     "language": "python",
     "metadata": {},
     "outputs": [],
     "prompt_number": 44
    },
    {
     "cell_type": "code",
     "collapsed": false,
     "input": [
      "# Create team member info selector\n",
      "team_member_info_sel = Selector(text=team_member_info_rendered_content)"
     ],
     "language": "python",
     "metadata": {},
     "outputs": [],
     "prompt_number": 45
    },
    {
     "cell_type": "code",
     "collapsed": false,
     "input": [
      "# Extract team member info \n",
      "team_member_details = team_member_info_sel.xpath(XPATH_TEAM_MEMBER_PERSONAL_DETAILS).extract_first()\n",
      "team_member_linkedin_link = team_member_info_sel.xpath(XPATH_TEAM_MEMBER_LINKEDIN_LINK).extract_first()\n",
      "print('\\tdetails: {}'.format(team_member_details))\n",
      "print('\\tlinkedin_link: {}'.format(team_member_linkedin_link))"
     ],
     "language": "python",
     "metadata": {},
     "outputs": [
      {
       "output_type": "stream",
       "stream": "stdout",
       "text": [
        "\tdetails: None\n",
        "\tlinkedin_link: None\n"
       ]
      }
     ],
     "prompt_number": 47
    },
    {
     "cell_type": "code",
     "collapsed": false,
     "input": [],
     "language": "python",
     "metadata": {},
     "outputs": []
    }
   ],
   "metadata": {}
  }
 ]
}