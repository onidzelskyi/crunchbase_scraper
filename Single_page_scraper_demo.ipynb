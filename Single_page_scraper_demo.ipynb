{
 "cells": [
  {
   "cell_type": "code",
   "execution_count": 159,
   "metadata": {
    "collapsed": true
   },
   "outputs": [],
   "source": [
    "from scrapy import Selector\n",
    "from selenium import webdriver\n",
    "import requests\n",
    "import urlparse\n",
    "import os\n",
    "import re\n",
    "import datetime"
   ]
  },
  {
   "cell_type": "code",
   "execution_count": 234,
   "metadata": {
    "collapsed": false
   },
   "outputs": [],
   "source": [
    "# Global variables\n",
    "XPATH_COMPANY_LIST = '//div[@class=\"info-block\"]/h4/a[contains(@href, \"organization\")]/@href'\n",
    "XPATH_COMPANY_FUNDING_DATE = '//h2[@class=\"title_date\"]'\n",
    "XPATH_COMPANY_FUNDING_ROUND = '//table[@class=\"table container\"]//a/text()'\n",
    "XPATH_COMPANY_FUNDING_AMOUNT = '//table[@class=\"table container\"]//td[2]/text()'\n",
    "XPATH_COMPANY_CRUNCHBASE_LINK = '//div[@class=\"info-block\"]//a/@href'\n",
    "XPATH_COMPANY_SITE_LINK = '//div[@class=\"definition-list container\"]//dd[5]/a/@href'\n",
    "XPATH_COMPANY_LINKEDIN_LINK = '//dd[@class=\"social-links\"]//a[@class=\"icons linkedin\"]/@href'\n",
    "XPATH_COMPANY_NAME = '//h1[@id=\"profile_header_heading\"]//a/text()'\n",
    "XPATH_COMPANY_DESCRIPTION = '//div[@class=\"definition-list container\"]//dd[2]/text()'\n",
    "\n",
    "XPATH_TEAM_MEMBER_LIST = '//div[@class=\"base info-tab people\"]//ul[@class=\"section-list container\"]'\n",
    "XPATH_TEAM_MEMBER_FULL_NAME = '//div[@class=\"info-block\"]/div[@class=\"large\"]//a[@class=\"follow_card\"]/text()'\n",
    "XPATH_TEAM_MEMBER_POSITION = '//div[@class=\"info-block\"]/div[@class=\"large\"]/h5/text()'\n",
    "XPATH_TEAM_MEMBER_CRUNCHBASE_LINK = '//h4/a[@data-type=\"person\"][@class=\"follow_card\"]/@href'\n",
    "XPATH_TEAM_MEMBER_LINKEDIN_LINK = '//dd[@class=\"social-links\"]/a[contains(@href, \"linkedin\")]/@href'\n",
    "XPATH_TEAM_MEMBER_PERSONAL_DETAILS = '//div[@class=\"base info-tab description\"]//div[@class=\"card-content box container card-slim\"]//text()'\n",
    "\n",
    "XPATH_CONTENT_BLOCKED = '//meta[contains(@content, \"blocked\")]'\n",
    "\n",
    "base_url = 'https://www.crunchbase.com/'\n",
    "url = 'https://www.crunchbase.com/funding-rounds'\n",
    "\n",
    "headers = {'User-Agent': 'Mozilla/5.0 (Macintosh; Intel Mac OS X 10_10_4) AppleWebKit/600.7.12 (KHTML, like Gecko) Version/8.0.7 Safari/600.7.12'}"
   ]
  },
  {
   "cell_type": "code",
   "execution_count": 296,
   "metadata": {
    "collapsed": false
   },
   "outputs": [],
   "source": [
    "# Create rendering engine\n",
    "browser = webdriver.Chrome()"
   ]
  },
  {
   "cell_type": "code",
   "execution_count": null,
   "metadata": {
    "collapsed": false
   },
   "outputs": [],
   "source": [
    "# Get company list raw html content\n",
    "response = requests.get(url, headers=headers)"
   ]
  },
  {
   "cell_type": "code",
   "execution_count": null,
   "metadata": {
    "collapsed": true
   },
   "outputs": [],
   "source": [
    "# Save company list raw html content on disk \n",
    "# for developing and testing purposes\n",
    "with open('company_list_raw_content.html', 'wb') as fout:\n",
    "    fout.write(response.content)"
   ]
  },
  {
   "cell_type": "code",
   "execution_count": null,
   "metadata": {
    "collapsed": false
   },
   "outputs": [],
   "source": [
    "# Get company list rendered html content\n",
    "browser.get('file:///{}/company_list_raw_content.html'.format(os.getcwd()))\n",
    "company_list_rendered_content = browser.page_source"
   ]
  },
  {
   "cell_type": "code",
   "execution_count": null,
   "metadata": {
    "collapsed": false
   },
   "outputs": [],
   "source": [
    "# Save company list rendered html content on disk\n",
    "# for developing and testing purposes\n",
    "with open('company_list_rendered_content.html', 'wb') as fout:\n",
    "    fout.write(company_list_rendered_content.encode('utf-8'))"
   ]
  },
  {
   "cell_type": "code",
   "execution_count": null,
   "metadata": {
    "collapsed": false
   },
   "outputs": [],
   "source": [
    "# Get founding_blocks with company list selector\n",
    "funding_blocks_sel = Selector(text=company_list_rendered_content)"
   ]
  },
  {
   "cell_type": "code",
   "execution_count": null,
   "metadata": {
    "collapsed": false
   },
   "outputs": [],
   "source": [
    "# Extract funding blocks with company lists\n",
    "funding_blocks = funding_blocks_sel.xpath(XPATH_COMPANY_FUNDING_DATE)"
   ]
  },
  {
   "cell_type": "code",
   "execution_count": null,
   "metadata": {
    "collapsed": false
   },
   "outputs": [],
   "source": [
    "# Extract funding date from first funding block\n",
    "funding_block = funding_blocks[0]\n",
    "funding_date = datetime.datetime.strptime(funding_block.xpath('text()').extract_first(), '%B %d, %Y').date()\n",
    "print('funding date: {}'.format(funding_date))"
   ]
  },
  {
   "cell_type": "code",
   "execution_count": null,
   "metadata": {
    "collapsed": false
   },
   "outputs": [],
   "source": [
    "# Extract company list from first funding block with given funding date\n",
    "company_list = [urlparse.urljoin(base_url, item) for item in funding_block.xpath(XPATH_COMPANY_LIST).extract()]\n",
    "print('company_list:')\n",
    "for company_url in company_list:\n",
    "    print('\\t{}'.format(company_url))"
   ]
  },
  {
   "cell_type": "code",
   "execution_count": null,
   "metadata": {
    "collapsed": false
   },
   "outputs": [],
   "source": [
    "# Get first company crunchbase link url\n",
    "company_url = company_list[0]"
   ]
  },
  {
   "cell_type": "code",
   "execution_count": null,
   "metadata": {
    "collapsed": false
   },
   "outputs": [],
   "source": [
    "# Get company info raw html content\n",
    "company_info_raw_content = requests.get(company_url, headers=headers)"
   ]
  },
  {
   "cell_type": "code",
   "execution_count": null,
   "metadata": {
    "collapsed": false
   },
   "outputs": [],
   "source": [
    "# Save company info raw html content on disk\n",
    "# for developing and testing purposes\n",
    "with open('company_info_raw_content.html', 'wb') as fout:\n",
    "    fout.write(company_info_raw_content.content)"
   ]
  },
  {
   "cell_type": "code",
   "execution_count": 163,
   "metadata": {
    "collapsed": false
   },
   "outputs": [],
   "source": [
    "# Get company info rendered html content\n",
    "browser.get('file:///{}/company_info_raw_content.html'.format(os.getcwd()))\n",
    "company_info_rendered_content = browser.page_source"
   ]
  },
  {
   "cell_type": "code",
   "execution_count": 162,
   "metadata": {
    "collapsed": false
   },
   "outputs": [],
   "source": [
    "# Save company info rendered html content on disk\n",
    "# for developing and testing purposes\n",
    "with open('company_info_rendered_content.html', 'wb') as fout:\n",
    "    fout.write(company_info_rendered_content.encode('utf-8'))"
   ]
  },
  {
   "cell_type": "code",
   "execution_count": 164,
   "metadata": {
    "collapsed": false
   },
   "outputs": [],
   "source": [
    "# Create company info selector\n",
    "company_info_sel = Selector(text=company_info_rendered_content)"
   ]
  },
  {
   "cell_type": "code",
   "execution_count": 195,
   "metadata": {
    "collapsed": false
   },
   "outputs": [
    {
     "name": "stdout",
     "output_type": "stream",
     "text": [
      "Company info\n",
      "\tname: (u'Go-Jek',)\n",
      "\tdescription: (u'The fastest courier, transport, and shopping service in Jakarta.',)\n",
      "\tcompany_crunchbase_link: https://www.crunchbase.com/organization/go-jek\n",
      "\tsite_link: (u'http://go-jek.com',)\n",
      "\tlinkedin_link: https://www.linkedin.com/company/pt--go-jek-indonesia\n",
      "\tfunding_date: 2016-08-04\n",
      "\tfunding_round: (u'Venture',)\n",
      "\tfunding_amount: $550M / \n"
     ]
    }
   ],
   "source": [
    "# Extract company info\n",
    "company_crunchbase_link = company_url\n",
    "name = company_info_sel.xpath(XPATH_COMPANY_NAME).extract_first(),\n",
    "description = company_info_sel.xpath(XPATH_COMPANY_DESCRIPTION).extract_first(),\n",
    "site_link = company_info_sel.xpath(XPATH_COMPANY_SITE_LINK).extract_first(),\n",
    "linkedin_link = company_info_sel.xpath(XPATH_COMPANY_LINKEDIN_LINK).extract_first()\n",
    "\n",
    "# Company funding info\n",
    "funding_round = company_info_sel.xpath(XPATH_COMPANY_FUNDING_ROUND).extract_first(),\n",
    "funding_amount = company_info_sel.xpath(XPATH_COMPANY_FUNDING_AMOUNT).extract_first()\n",
    "\n",
    "print('Company info')\n",
    "print('\\tname: {}'.format(name))\n",
    "print('\\tdescription: {}'.format(description))\n",
    "print('\\tcompany_crunchbase_link: {}'.format(company_crunchbase_link))\n",
    "print('\\tsite_link: {}'.format(site_link))\n",
    "print('\\tlinkedin_link: {}'.format(linkedin_link))\n",
    "print('\\tfunding_date: {}'.format(funding_date))\n",
    "print('\\tfunding_round: {}'.format(funding_round))\n",
    "print('\\tfunding_amount: {}'.format(funding_amount))"
   ]
  },
  {
   "cell_type": "code",
   "execution_count": 206,
   "metadata": {
    "collapsed": false
   },
   "outputs": [
    {
     "name": "stdout",
     "output_type": "stream",
     "text": [
      "Team member info\n",
      "\n",
      "full name: Kevin Aluwi\n",
      "position: CFO\n",
      "crunchbase_link: https://www.crunchbase.com/person/kevin-aluwi\n",
      "\n",
      "full name: Sidu Ponnappa Chonira\n",
      "position: Director\n",
      "crunchbase_link: https://www.crunchbase.com/person/sidu-ponnappa-chonira\n",
      "\n",
      "full name: Dayu Dara Permata\n",
      "position: Co-Founder, Co-Head of GO-LIFE.\n",
      "crunchbase_link: https://www.crunchbase.com/person/dayu-dara-permata\n",
      "\n",
      "full name: Nadiem Makarim\n",
      "position: CEO\n",
      "crunchbase_link: https://www.crunchbase.com/person/nadiem-makarim\n",
      "\n",
      "full name: Michaelangelo Moran\n",
      "position: Co-Founder, Brand Director\n",
      "crunchbase_link: https://www.crunchbase.com/person/michaelangelo-moran\n",
      "\n"
     ]
    }
   ],
   "source": [
    "# Get company's team member info\n",
    "block = company_info_sel.xpath(XPATH_TEAM_MEMBER_LIST)\n",
    "team_members = zip([urlparse.urljoin(base_url, item) for item in block.xpath(XPATH_TEAM_MEMBER_CRUNCHBASE_LINK).extract()],\n",
    "                   block.xpath(XPATH_TEAM_MEMBER_FULL_NAME).extract(),\n",
    "                   block.xpath(XPATH_TEAM_MEMBER_POSITION).extract())\n",
    "print('Team member info\\n')\n",
    "for team_member in team_members:\n",
    "    print('full name: {}'.format(team_member[1]))\n",
    "    print('position: {}'.format(team_member[2]))\n",
    "    print('crunchbase_link: {}\\n'.format(team_member[0]))"
   ]
  },
  {
   "cell_type": "code",
   "execution_count": null,
   "metadata": {
    "collapsed": false
   },
   "outputs": [],
   "source": [
    "# Get team member info raw html content\n",
    "team_member_info_raw_content = requests.get(team_members[0], headers=headers)"
   ]
  },
  {
   "cell_type": "code",
   "execution_count": null,
   "metadata": {
    "collapsed": false
   },
   "outputs": [],
   "source": [
    "# Save team member info raw html content on disk\n",
    "# for developing and testing purposes\n",
    "with open('team_member_info_raw_content.html', 'wb') as fout:\n",
    "    fout.write(team_member_info_raw_content.content)"
   ]
  },
  {
   "cell_type": "code",
   "execution_count": 207,
   "metadata": {
    "collapsed": false
   },
   "outputs": [],
   "source": [
    "# Get team member info rendered html content\n",
    "browser.get('file:///{}/team_member_info_raw_content.html'.format(os.getcwd()))\n",
    "team_member_info_rendered_content = browser.page_source"
   ]
  },
  {
   "cell_type": "code",
   "execution_count": null,
   "metadata": {
    "collapsed": false
   },
   "outputs": [],
   "source": [
    "# Save team member info rendered html content on disk\n",
    "# for developing and testing purposes\n",
    "with open('team_member_info_rendered_content.html', 'wb') as fout:\n",
    "    fout.write(company_info_rendered_content.encode('utf-8'))"
   ]
  },
  {
   "cell_type": "code",
   "execution_count": 208,
   "metadata": {
    "collapsed": false
   },
   "outputs": [],
   "source": [
    "# Create team member info selector\n",
    "team_member_info_sel = Selector(text=team_member_info_rendered_content)"
   ]
  },
  {
   "cell_type": "code",
   "execution_count": 209,
   "metadata": {
    "collapsed": false
   },
   "outputs": [
    {
     "name": "stdout",
     "output_type": "stream",
     "text": [
      "\tdetails: None\n",
      "\tlinkedin_link: None\n"
     ]
    }
   ],
   "source": [
    "# Extract team member info \n",
    "team_member_details = team_member_info_sel.xpath(XPATH_TEAM_MEMBER_PERSONAL_DETAILS).extract_first()\n",
    "team_member_linkedin_link = team_member_info_sel.xpath(XPATH_TEAM_MEMBER_LINKEDIN_LINK).extract_first()\n",
    "print('\\tdetails: {}'.format(team_member_details))\n",
    "print('\\tlinkedin_link: {}'.format(team_member_linkedin_link))"
   ]
  },
  {
   "cell_type": "code",
   "execution_count": null,
   "metadata": {
    "collapsed": false
   },
   "outputs": [],
   "source": [
    "# test loading funding dates\n",
    "import selenium\n",
    "# browser.get('file:///{}/company_list_rendered_content.html'.format(os.getcwd()))\n",
    "# content = browser.page_source\n",
    "# sel = Selector(text=content)\n",
    "# print(sel.xpath('//script[contains(., \"set_date_titles\")]/text()').extract_first())\n",
    "\n",
    "script = \"\"\"(function() {\n",
    "      $.each($('.funding_rounds ul.section-list li'), function() {\n",
    "      });\n",
    "        var fr_date_str = $(this).data('date');\n",
    "\n",
    "        try {\n",
    "          if(fr_date_str &amp;amp;&amp;amp; $('li h2.title_date[data-date=' + fr_date_str + ']').length == 0) {\n",
    "            $(this).before(\"&amp;lt;li&amp;gt;&amp;lt;h2 class='title_date' data-date='\" + fr_date_str + \"'&amp;gt;\" + fr_date_str + \"&amp;lt;/h2&amp;gt;&amp;lt;/li&amp;gt;\");\n",
    "          }\n",
    "        } catch(e) {\n",
    "          if(fr_date_str &amp;amp;&amp;amp; $('li h2.title_date[data-date=\"' + fr_date_str + '\"]').length == 0) {\n",
    "            $(this).before(\"&amp;lt;li&amp;gt;&amp;lt;h2 class='title_date' data-date='\" + fr_date_str + \"'&amp;gt;\" + fr_date_str + \"&amp;lt;/h2&amp;gt;&amp;lt;/li&amp;gt;\");\n",
    "          }\n",
    "        }\n",
    "});\"\"\"\n",
    "\n",
    "\n",
    "# script = \"\"\"(function(){\n",
    "#     $(\"p\").click(function(){\n",
    "#         $(this).hide();\n",
    "#     });\n",
    "# });\"\"\"\n",
    "\n",
    "# print(script)\n",
    "\n",
    "elem = browser.find_element_by_xpath('//div/script[contains(., \"set_date_titles\")]/script')\n",
    "print(elem.text)\n",
    "# browser.execute_script(script)"
   ]
  },
  {
   "cell_type": "code",
   "execution_count": 258,
   "metadata": {
    "collapsed": false
   },
   "outputs": [],
   "source": [
    "# Get team member info rendered html content\n",
    "response = requests.get('https://www.crunchbase.com/organization/synaptec#/entity', headers=headers)\n",
    "\n",
    "with open('company_synaptec_raw_content.html', 'wb') as fout: \n",
    "    fout.write(response.content)\n",
    "    \n",
    "browser.get('file:///{}/company_synaptec_raw_content.html'.format(os.getcwd()))\n",
    "company_info_rendered_content = browser.page_source\n",
    "\n",
    "with open('company_synaptec_rendered_content.html', 'wb') as fout: \n",
    "    fout.write(company_info_rendered_content.encode('utf-8'))\n",
    "\n",
    "company3_sel = Selector(text=company_info_rendered_content)"
   ]
  },
  {
   "cell_type": "code",
   "execution_count": 250,
   "metadata": {
    "collapsed": false
   },
   "outputs": [],
   "source": [
    "with open('{}/company_info_rendered_content.html'.format(os.getcwd())) as fin: \n",
    "    company2_sel = Selector(text=fin.read())"
   ]
  },
  {
   "cell_type": "code",
   "execution_count": 259,
   "metadata": {
    "collapsed": false
   },
   "outputs": [
    {
     "name": "stdout",
     "output_type": "stream",
     "text": [
      "http://hypothes.is\n",
      "http://go-jek.com\n",
      "http://synapt.ec/\n"
     ]
    }
   ],
   "source": [
    "print company_sel.xpath('//div[@class=\"definition-list container\"]//dd//a[@target=\"_blank\"]/@href').extract_first()\n",
    "print company2_sel.xpath('//div[@class=\"definition-list container\"]//dd//a[@target=\"_blank\"]/@href').extract_first()\n",
    "print company3_sel.xpath('//div[@class=\"definition-list container\"]//dd//a[@target=\"_blank\"]/@href').extract_first()"
   ]
  },
  {
   "cell_type": "code",
   "execution_count": 281,
   "metadata": {
    "collapsed": false
   },
   "outputs": [
    {
     "name": "stdout",
     "output_type": "stream",
     "text": [
      "[]\n",
      "['https://www.crunchbase.com/person/kevin-aluwi#/entity', 'https://www.crunchbase.com/person/sidu-ponnappa-chonira#/entity', 'https://www.crunchbase.com/person/dayu-dara-permata#/entity', 'https://www.crunchbase.com/person/nadiem-makarim#/entity', 'https://www.crunchbase.com/person/michaelangelo-moran#/entity']\n",
      "[]\n"
     ]
    }
   ],
   "source": [
    "print [urlparse.urljoin(base_url, '{}{}'.format(item,'#/entity')) for item in company_sel.xpath('//div[@class=\"base info-tab people\"]//div[@class=\"info-block\"]//a/@href').extract()]\n",
    "print [urlparse.urljoin(base_url, '{}{}'.format(item,'#/entity')) for item in company2_sel.xpath('//div[@class=\"base info-tab people\"]//div[@class=\"info-block\"]//a/@href').extract()]\n",
    "print [urlparse.urljoin(base_url, '{}{}'.format(item,'#/entity')) for item in company3_sel.xpath(XPATH_TEAM_MEMBER_CRUNCHBASE_LINK).extract()]"
   ]
  },
  {
   "cell_type": "code",
   "execution_count": 319,
   "metadata": {
    "collapsed": false
   },
   "outputs": [
    {
     "data": {
      "text/plain": [
       "u'<meta http-equiv=\"refresh\" content=\"10; url=/distil_r_blocked.html?Ref=/organization/hypothes&amp;distil_RID=8AC59ED0-5D23-11E6-8276-FB62304ED9BC&amp;distil_TID=20160808044951\">'"
      ]
     },
     "execution_count": 319,
     "metadata": {},
     "output_type": "execute_result"
    }
   ],
   "source": [
    "browser.get('file:///{}/raw_content.html'.format(os.getcwd()))\n",
    "rendered_content = browser.page_source\n",
    "\n",
    "sel = Selector(text=rendered_content)\n",
    "sel.xpath('//meta[contains(@content, \"blocked\")]').extract_first()\n"
   ]
  }
 ],
 "metadata": {
  "kernelspec": {
   "display_name": "Python 2",
   "language": "python",
   "name": "python2"
  },
  "language_info": {
   "codemirror_mode": {
    "name": "ipython",
    "version": 2
   },
   "file_extension": ".py",
   "mimetype": "text/x-python",
   "name": "python",
   "nbconvert_exporter": "python",
   "pygments_lexer": "ipython2",
   "version": "2.7.11"
  }
 },
 "nbformat": 4,
 "nbformat_minor": 0
}
