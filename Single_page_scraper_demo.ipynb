{
 "cells": [
  {
   "cell_type": "code",
   "execution_count": 1,
   "metadata": {
    "collapsed": true
   },
   "outputs": [],
   "source": [
    "from scrapy import Selector\n",
    "from selenium import webdriver\n",
    "import requests\n",
    "import urlparse\n",
    "import os\n",
    "import re"
   ]
  },
  {
   "cell_type": "code",
   "execution_count": 11,
   "metadata": {
    "collapsed": false
   },
   "outputs": [],
   "source": [
    "base_url = 'https://www.crunchbase.com/'\n",
    "url = 'https://www.crunchbase.com/funding-rounds'\n",
    "\n",
    "headers = {'User-Agent': 'Mozilla/5.0 (Macintosh; Intel Mac OS X 10_10_4) AppleWebKit/600.7.12 (KHTML, like Gecko) Version/8.0.7 Safari/600.7.12'}\n",
    "\n",
    "#response = requests.get(url, headers=headers)\n",
    "browser = webdriver.Chrome()"
   ]
  },
  {
   "cell_type": "code",
   "execution_count": 12,
   "metadata": {
    "collapsed": true
   },
   "outputs": [],
   "source": [
    "with open('/tmp/sample.html', 'wb') as fout:\n",
    "    fout.write(response.content)"
   ]
  },
  {
   "cell_type": "code",
   "execution_count": 6,
   "metadata": {
    "collapsed": false
   },
   "outputs": [],
   "source": [
    "# Company list\n",
    "browser.get('file:///{}/sample.html'.format(os.getcwd()))\n",
    "sel = Selector(text=browser.page_source)"
   ]
  },
  {
   "cell_type": "code",
   "execution_count": 12,
   "metadata": {
    "collapsed": false
   },
   "outputs": [],
   "source": [
    "# Company info\n",
    "browser.get('file:///{}/raw_content.html'.format(os.getcwd()))\n",
    "sel = Selector(text=browser.page_source)"
   ]
  },
  {
   "cell_type": "code",
   "execution_count": 9,
   "metadata": {
    "collapsed": false
   },
   "outputs": [
    {
     "name": "stdout",
     "output_type": "stream",
     "text": [
      "[u'July 27, 2016']\n",
      "https://www.crunchbase.com/organization/shipt-2\n"
     ]
    }
   ],
   "source": [
    "# Extract funding dates from current page\n",
    "funding_date = sel.xpath('//h2[@class=\"title_date\"]')\n",
    "\n",
    "# Extract companies urls for first funding date\n",
    "date = funding_date[0].xpath('text()').extract()\n",
    "company_list = [urlparse.urljoin(base_url, item) for item in funding_date[0].xpath('//div[@class=\"info-block\"]/h4/a/@href').extract() if re.search('/organization/\\S+', item)]\n",
    "\n",
    "print(date)\n",
    "print(company_list[0])"
   ]
  },
  {
   "cell_type": "code",
   "execution_count": 55,
   "metadata": {
    "collapsed": false
   },
   "outputs": [
    {
     "name": "stdout",
     "output_type": "stream",
     "text": [
      "215\n",
      "https://www.crunchbase.com/organization/shipt-2\n",
      "https://www.crunchbase.com/funding-round/dd6299977f8af8fbfb1067172429e4b0/investors\n"
     ]
    }
   ],
   "source": [
    "#company_crunchbase_links = sel.xpath('//div[@class=\"info-block\"]//a/@href').extract()\n",
    "company_crunchbase_links = sel.xpath('//li[\"data-date\"]//div[@class=\"info-block\"]//a/@href').extract()\n",
    "print(len(company_crunchbase_links))\n",
    "\n",
    "company_crunchbase_link = urlparse.urljoin(base_url, company_crunchbase_links[0])\n",
    "print(company_crunchbase_link)\n",
    "\n",
    "company_crunchbase_link = urlparse.urljoin(base_url, company_crunchbase_links[-1])\n",
    "print(company_crunchbase_link)"
   ]
  },
  {
   "cell_type": "code",
   "execution_count": 39,
   "metadata": {
    "collapsed": false
   },
   "outputs": [],
   "source": [
    "company_response = requests.get('https://www.crunchbase.com/organization/shipt-2', headers=headers)\n",
    "\n",
    "with open('/tmp/company_sample.html', 'wb') as fout:\n",
    "    fout.write(company_response.content)\n",
    "\n",
    "browser.get(\"file:///tmp/company_sample.html\")\n",
    "sel = Selector(text=browser.page_source)"
   ]
  },
  {
   "cell_type": "code",
   "execution_count": 34,
   "metadata": {
    "collapsed": false
   },
   "outputs": [
    {
     "name": "stdout",
     "output_type": "stream",
     "text": [
      "[u'Shipt']\n",
      "[u'Shipt is an on-demand grocery delivery service that gives customers direct access to thousands of grocery items through a mobile app.']\n",
      "Series A\n",
      "$20.1M / \n",
      "[u'https://www.shipt.com']\n",
      "[u'https://www.linkedin.com/company/shipt?']\n"
     ]
    }
   ],
   "source": [
    "company_name = company_sel.xpath('//h1[@id=\"profile_header_heading\"]//a/text()').extract()\n",
    "print(company_name)\n",
    "\n",
    "company_description = company_sel.xpath('//div[@class=\"definition-list container\"]//dd[2]/text()').extract()\n",
    "print(company_description)\n",
    "\n",
    "funding_round = company_sel.xpath('//table[@class=\"table container\"]//a/text()').extract()[0]\n",
    "print(funding_round)\n",
    "\n",
    "funding_amount = company_sel.xpath('//table[@class=\"table container\"]//td/text()').extract()[1]\n",
    "print(funding_amount)\n",
    "\n",
    "company_site_link = company_sel.xpath('//div[@class=\"definition-list container\"]//dd[5]/a/@href').extract()\n",
    "print(company_site_link)\n",
    "\n",
    "company_linkedin_link = company_sel.xpath('//dd[@class=\"social-links\"]//a[@class=\"icons linkedin\"]/@href').extract()\n",
    "print(company_linkedin_link)\n",
    "\n",
    "\n"
   ]
  },
  {
   "cell_type": "code",
   "execution_count": 48,
   "metadata": {
    "collapsed": false
   },
   "outputs": [
    {
     "name": "stdout",
     "output_type": "stream",
     "text": [
      "([u'CTO', u'Head of Business Development', u'Director of Digital Marketing', u'CEO', u'Mobile Developer', u'VP of Finance & Operations', u'CTO', u'Head of Business Development', u'Director of Digital Marketing', u'CEO', u'Mobile Developer', u'VP of Finance & Operations', u'CTO', u'Head of Business Development', u'Director of Digital Marketing', u'CEO', u'Mobile Developer', u'VP of Finance & Operations', u'CTO', u'Head of Business Development', u'Director of Digital Marketing', u'CEO', u'Mobile Developer', u'VP of Finance & Operations', u'CTO', u'Head of Business Development', u'Director of Digital Marketing', u'CEO', u'Mobile Developer', u'VP of Finance & Operations', u'CTO', u'Head of Business Development', u'Director of Digital Marketing', u'CEO', u'Mobile Developer', u'VP of Finance & Operations'], [u'Bryan Davis', u'Joe Manning', u'Missy Polhemus', u'Bill Smith', u'Patrick Sullivan', u'Jonathan Wilhite', u'Bryan Davis', u'Joe Manning', u'Missy Polhemus', u'Bill Smith', u'Patrick Sullivan', u'Jonathan Wilhite', u'Bryan Davis', u'Joe Manning', u'Missy Polhemus', u'Bill Smith', u'Patrick Sullivan', u'Jonathan Wilhite', u'Bryan Davis', u'Joe Manning', u'Missy Polhemus', u'Bill Smith', u'Patrick Sullivan', u'Jonathan Wilhite', u'Bryan Davis', u'Joe Manning', u'Missy Polhemus', u'Bill Smith', u'Patrick Sullivan', u'Jonathan Wilhite', u'Bryan Davis', u'Joe Manning', u'Missy Polhemus', u'Bill Smith', u'Patrick Sullivan', u'Jonathan Wilhite'])\n"
     ]
    }
   ],
   "source": [
    "team_members = sel.xpath('//div[@class=\"base info-tab people\"]//ul[@class=\"section-list container\"]/li')\n",
    "#print(team_members)\n",
    "aa = team_members.xpath('//div[@class=\"info-block\"]/div[@class=\"large\"]//a[@class=\"follow_card\"]/text()').extract()\n",
    "bb = team_members.xpath('//div[@class=\"info-block\"]/div[@class=\"large\"]/h5/text()').extract()\n",
    "\n",
    "print(bb, aa)\n",
    "#team_member_crunchbase_link = urlparse.urljoin(base_url, team_members[0])\n",
    "\n",
    "\n",
    "#team_member_response = requests.get(team_member_crunchbase_link, headers=headers)\n",
    "\n",
    "#with open('/tmp/team_member_sample.html', 'wb') as fout:\n",
    "#    fout.write(team_member_response.content)\n",
    "\n",
    "#browser.get(\"file:///tmp/team_member_sample.html\")\n",
    "#team_member_sel = Selector(text=browser.page_source)"
   ]
  },
  {
   "cell_type": "code",
   "execution_count": 45,
   "metadata": {
    "collapsed": false
   },
   "outputs": [
    {
     "name": "stdout",
     "output_type": "stream",
     "text": [
      "[u'Bryan Davis']\n",
      "CTO \n"
     ]
    },
    {
     "ename": "ValueError",
     "evalue": "Invalid XPath: ",
     "output_type": "error",
     "traceback": [
      "\u001b[0;31m---------------------------------------------------------------------------\u001b[0m",
      "\u001b[0;31mValueError\u001b[0m                                Traceback (most recent call last)",
      "\u001b[0;32m<ipython-input-45-47b0a12a45e0>\u001b[0m in \u001b[0;36m<module>\u001b[0;34m()\u001b[0m\n\u001b[1;32m      5\u001b[0m \u001b[0;32mprint\u001b[0m\u001b[0;34m(\u001b[0m\u001b[0mteam_member_position\u001b[0m\u001b[0;34m)\u001b[0m\u001b[0;34m\u001b[0m\u001b[0m\n\u001b[1;32m      6\u001b[0m \u001b[0;34m\u001b[0m\u001b[0m\n\u001b[0;32m----> 7\u001b[0;31m \u001b[0mteam_member_details\u001b[0m \u001b[0;34m=\u001b[0m \u001b[0mteam_member_sel\u001b[0m\u001b[0;34m.\u001b[0m\u001b[0mxpath\u001b[0m\u001b[0;34m(\u001b[0m\u001b[0;34m''\u001b[0m\u001b[0;34m)\u001b[0m\u001b[0;34m.\u001b[0m\u001b[0mextract\u001b[0m\u001b[0;34m(\u001b[0m\u001b[0;34m)\u001b[0m\u001b[0;34m\u001b[0m\u001b[0m\n\u001b[0m\u001b[1;32m      8\u001b[0m \u001b[0;32mprint\u001b[0m\u001b[0;34m(\u001b[0m\u001b[0mteam_member_details\u001b[0m\u001b[0;34m)\u001b[0m\u001b[0;34m\u001b[0m\u001b[0m\n\u001b[1;32m      9\u001b[0m \u001b[0;34m\u001b[0m\u001b[0m\n",
      "\u001b[0;32m/opt/local/Library/Frameworks/Python.framework/Versions/2.7/lib/python2.7/site-packages/scrapy/selector/unified.pyc\u001b[0m in \u001b[0;36mxpath\u001b[0;34m(self, query)\u001b[0m\n\u001b[1;32m     98\u001b[0m         \u001b[0;32mexcept\u001b[0m \u001b[0metree\u001b[0m\u001b[0;34m.\u001b[0m\u001b[0mXPathError\u001b[0m\u001b[0;34m:\u001b[0m\u001b[0;34m\u001b[0m\u001b[0m\n\u001b[1;32m     99\u001b[0m             \u001b[0mmsg\u001b[0m \u001b[0;34m=\u001b[0m \u001b[0;34mu\"Invalid XPath: %s\"\u001b[0m \u001b[0;34m%\u001b[0m \u001b[0mquery\u001b[0m\u001b[0;34m\u001b[0m\u001b[0m\n\u001b[0;32m--> 100\u001b[0;31m             \u001b[0;32mraise\u001b[0m \u001b[0mValueError\u001b[0m\u001b[0;34m(\u001b[0m\u001b[0mmsg\u001b[0m \u001b[0;32mif\u001b[0m \u001b[0msix\u001b[0m\u001b[0;34m.\u001b[0m\u001b[0mPY3\u001b[0m \u001b[0;32melse\u001b[0m \u001b[0mmsg\u001b[0m\u001b[0;34m.\u001b[0m\u001b[0mencode\u001b[0m\u001b[0;34m(\u001b[0m\u001b[0;34m\"unicode_escape\"\u001b[0m\u001b[0;34m)\u001b[0m\u001b[0;34m)\u001b[0m\u001b[0;34m\u001b[0m\u001b[0m\n\u001b[0m\u001b[1;32m    101\u001b[0m \u001b[0;34m\u001b[0m\u001b[0m\n\u001b[1;32m    102\u001b[0m         \u001b[0;32mif\u001b[0m \u001b[0mtype\u001b[0m\u001b[0;34m(\u001b[0m\u001b[0mresult\u001b[0m\u001b[0;34m)\u001b[0m \u001b[0;32mis\u001b[0m \u001b[0;32mnot\u001b[0m \u001b[0mlist\u001b[0m\u001b[0;34m:\u001b[0m\u001b[0;34m\u001b[0m\u001b[0m\n",
      "\u001b[0;31mValueError\u001b[0m: Invalid XPath: "
     ]
    }
   ],
   "source": [
    "team_member_full_name = team_member_sel.xpath('//h1[@id=\"profile_header_heading\"]//a/text()').extract()\n",
    "print(team_member_full_name)\n",
    "\n",
    "team_member_position = team_member_sel.xpath('//div[@class=\"overview-stats\"]//dd/text()').extract()[0]\n",
    "print(team_member_position)\n",
    "\n",
    "team_member_details = team_member_sel.xpath('').extract()\n",
    "print(team_member_details)\n",
    "\n",
    "team_member_linkedin_link = team_member_sel.xpath('').extract()\n",
    "print(team_member_details)\n",
    "\n",
    "team_member_crunchbase_link = team_member_sel.xpath('').extract()\n",
    "print(team_member_crunchbase_link)"
   ]
  }
 ],
 "metadata": {
  "kernelspec": {
   "display_name": "Python 2",
   "language": "python",
   "name": "python2"
  },
  "language_info": {
   "codemirror_mode": {
    "name": "ipython",
    "version": 2
   },
   "file_extension": ".py",
   "mimetype": "text/x-python",
   "name": "python",
   "nbconvert_exporter": "python",
   "pygments_lexer": "ipython2",
   "version": "2.7.11"
  }
 },
 "nbformat": 4,
 "nbformat_minor": 0
}
