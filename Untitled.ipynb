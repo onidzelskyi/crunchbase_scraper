{
 "cells": [
  {
   "cell_type": "code",
   "execution_count": 1,
   "metadata": {
    "collapsed": true
   },
   "outputs": [],
   "source": [
    "from scrapy import Selector\n",
    "import requests"
   ]
  },
  {
   "cell_type": "code",
   "execution_count": 2,
   "metadata": {
    "collapsed": true
   },
   "outputs": [],
   "source": [
    "url = 'https://www.crunchbase.com/funding-rounds'\n",
    "\n",
    "\n",
    "response = requests.get(url)"
   ]
  },
  {
   "cell_type": "code",
   "execution_count": 3,
   "metadata": {
    "collapsed": true
   },
   "outputs": [],
   "source": [
    "sel = Selector(text=response.content)"
   ]
  },
  {
   "cell_type": "code",
   "execution_count": 5,
   "metadata": {
    "collapsed": false
   },
   "outputs": [
    {
     "data": {
      "text/plain": [
       "['<body class=\"block-page\">\\n  <div class=\"container\">\\n    <div class=\"row\">\\n      <div class=\"sidebar col-lg-4 col-sm-5\">\\n        <img src=\"//cdn.distilnetworks.com/images/anomaly-detected.png\" alt=\"0\">\\n      </div>\\n      <div class=\"content col-lg-8 col-sm-7\">\\n        <h1>Pardon Our Interruption...</h1>\\n        <p>\\n          As you were browsing <strong>http://www.crunchbase.com</strong> something about your browser made us think you were a bot. There are a few reasons this might happen:\\n        </p>\\n        <ul>\\n          <li>You\\'re a power user moving through this website with super-human speed.</li>\\n          <li>You\\'ve disabled JavaScript in your web browser.</li>\\n          <li>A third-party browser plugin, such as Ghostery or  NoScript, is preventing JavaScript from running. Additional information is available in this <a title=\"Third party browser plugins that block javascript\" href=\"http://ds.tl/help-third-party-plugins\" target=\"_blank\">support article</a>.</li>\\n        </ul>\\n        <p>\\n          To request an unblock, please fill out the form below and we will review it as soon as possible.\\n        </p>\\n\\n        <form id=\"vfquucyuzxbdeecuxy\" method=\"POST\" action=\"tzetcwcasyuwx.html\" style=\"display:none\"><label>Ignore: <input type=\"text\" name=\"first_name\"></label><label>Ignore: <input type=\"text\" name=\"last_name\"></label><label>Ignore: <input type=\"text\" name=\"email\"></label><label>Ignore: <input type=\"submit\" value=\"Submit\"></label></form><form id=\"demoForm\" method=\"post\" action=\"http://verify.distil.it/distil_blocked.php\">\\n          <div class=\"form-group\">\\n            <label for=\"first_name\">First Name</label>\\n            <input type=\"text\" class=\"form-control\" id=\"first_name\" name=\"first_name\" value=\"\">\\n          </div>\\n          <div class=\"form-group\">\\n            <label for=\"last_name\">Last Name</label>\\n            <input type=\"text\" class=\"form-control\" id=\"last_name\" name=\"last_name\" value=\"\">\\n          </div>\\n          <div class=\"form-group\">\\n            <label for=\"email\">E-mail</label>\\n            <input type=\"text\" class=\"form-control\" id=\"email\" name=\"email\" value=\"\">\\n          </div>\\n          <div class=\"form-group hide\">\\n            <label for=\"city\">City</label>\\n            <input type=\"text\" class=\"form-control hide\" id=\"city\" name=\"city\" value=\"\">\\n          </div>\\n          <input type=\"hidden\" name=\"B\" value=\"2946:195.160.235.253:1E9B0FF7-9E1F-379F-A90E-F22277DBECF9\">\\n          <input type=\"hidden\" name=\"P\" value=\"1E9B0FF7-9E1F-379F-A90E-F22277DBECF9\">\\n          <input type=\"hidden\" name=\"I\" value=\"\">\\n          <input type=\"hidden\" name=\"U\" value=\"\">\\n          <input type=\"hidden\" name=\"V\" value=\"12\">\\n          <input type=\"hidden\" name=\"O\" value=\"\">\\n          <input type=\"hidden\" name=\"D\" value=\"2946\">\\n          <input type=\"hidden\" name=\"A\" value=\"832\">\\n          <input type=\"hidden\" name=\"H\" value=\"www.crunchbase.com\">\\n          <input type=\"hidden\" name=\"LOADED\" value=\"2016-07-27 12:52:36\">\\n          <input type=\"hidden\" id=\"distil_block_identity_info\" name=\"PB\" value=\"\">\\n          <hr>\\n          <button type=\"submit\" class=\"btn btn-primary btn-lg\">Request Unblock</button>\\n        </form>\\n        <p id=\"extraUnblock\">\\n          <small style=\"font-size: 8pt\">\\n            You reached this page when attempting to access http://www.crunchbase.com/funding-rounds from 195.160.235.253 on 2016-07-27 12:52:36 GMT.<br>\\n            Trace: FE457F12-53F8-11E6-B52D-811996FD4A52 via d24e0f8d-31a8-47c2-ae96-80f59411b4e6\\n          </small>\\n        </p>\\n      </div>\\n    </div>\\n  </div>\\n</body>']"
      ]
     },
     "execution_count": 5,
     "metadata": {},
     "output_type": "execute_result"
    }
   ],
   "source": [
    "sel.xpath('//body').extract()\n"
   ]
  }
 ],
 "metadata": {
  "kernelspec": {
   "display_name": "Python 3",
   "language": "python",
   "name": "python3"
  },
  "language_info": {
   "codemirror_mode": {
    "name": "ipython",
    "version": 3
   },
   "file_extension": ".py",
   "mimetype": "text/x-python",
   "name": "python",
   "nbconvert_exporter": "python",
   "pygments_lexer": "ipython3",
   "version": "3.5.1+"
  }
 },
 "nbformat": 4,
 "nbformat_minor": 0
}
